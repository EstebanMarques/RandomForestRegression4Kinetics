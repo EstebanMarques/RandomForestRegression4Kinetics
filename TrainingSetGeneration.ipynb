{
 "cells": [
  {
   "cell_type": "code",
   "execution_count": 1,
   "id": "512e0d96",
   "metadata": {},
   "outputs": [],
   "source": [
    "import abc\n",
    "import numpy as np\n",
    "import os\n",
    "import json\n",
    "from openbabel import pybel\n",
    "from rdkit import Chem\n",
    "from rdkit.Chem import AllChem\n",
    "import pdb\n",
    "import itertools\n",
    "from tqdm import tqdm\n",
    "from Features import DualMol\n",
    "from Features import Featurizer\n",
    "import shutil"
   ]
  },
  {
   "cell_type": "markdown",
   "id": "d75eff27",
   "metadata": {},
   "source": [
    "# Configuration\n",
    "First step is to set up the configuration file.\n",
    "\n",
    "The code Below does this for you assuming this jupyter notebook is run in the same directory as all of the other "
   ]
  },
  {
   "cell_type": "code",
   "execution_count": 12,
   "id": "2074167e",
   "metadata": {},
   "outputs": [],
   "source": [
    "config_values = {\n",
    "\"training_set_directory\": os.path.join(os.getcwd(),\"training_sets\"), # directory where all new training sets will be made\n",
    "\"searches_directory\": os.getcwd(),  # Directory where the reactions.json file is found\n",
    "\"species_db\":os.path.join(os.getcwd(),os.path.join('dft_results','dft_data.json')), # path to the file with the post processesd DFT data \n",
    "\"dft_results\": os.path.join(os.getcwd(),'dft_results'), # path to the directory of the relaxed xyz files of molecules\n",
    "\"molecular_dict\":  os.path.join(os.getcwd(),'molec_descriptor.dict') #json databaseof all features\n",
    "}\n",
    "\n",
    "json.dump(config_values,open('config.json','w'),indent=2)"
   ]
  },
  {
   "cell_type": "code",
   "execution_count": 13,
   "id": "9fb86bf4",
   "metadata": {},
   "outputs": [],
   "source": [
    "if \"training_sets\" not in os.listdir():\n",
    "    os.mkdir(\"training_sets\")"
   ]
  },
  {
   "cell_type": "markdown",
   "id": "1b10d8b3",
   "metadata": {},
   "source": [
    "The way the code works is as follows:\n",
    "\n",
    "The Featurizer object will be instantiated with all the necessary  paths. It will first update the molecular dictionary, containing the molecular features/descriptors. The source from the update comes from two separate locations:\n",
    "\n",
    "The first is the relaxed structure of the molecule, which should be located inside a directory within the \"dft_results\" directory. Note that the file containing the relaxed/optimized specie should be and XYZ file and have the \"relaxed_\" prefix. Currently xyz files are the only ones supported, but it should not be dificult to make the code robust to other file types \n",
    "\n",
    "        Example: dft-results/XXXXXXXXXXXXXX-UHFFFAOYSA-N/relaxed_XXXXXXXXXXXXXX-UHFFFAOYSA-N.xyz\n",
    "\n",
    "The second Source of data is the dft_data.json file which has 4 values for each specie:\n",
    "\n",
    "    - Gibbs free energy at 0K (G0) [J/mol]\n",
    "    \n",
    "    - Difference between Gibbs free energy at 0K and Gibbs free energy at 300K  (dG300) [J/mol]\n",
    "    \n",
    "    - Highest Occupied Molecular Orbital energy Value [eV]\n",
    "    \n",
    "    - Lowest Unoccupied Molecular Orbital energy Value [eV]\n",
    "    \n",
    "    We have also added spin dependent \n",
    "\n",
    "With all of this in place we can create a training set with all of the available features. Features can be included and omitted  to create training sets of different features. The created training values and feature vectors will be placed in the training_sets directory, unless otherwise specified in the config file."
   ]
  },
  {
   "cell_type": "code",
   "execution_count": 50,
   "id": "2295fa97",
   "metadata": {},
   "outputs": [
    {
     "name": "stderr",
     "output_type": "stream",
     "text": [
      "  0%|                                                                                          | 0/6063 [00:00<?, ?it/s]==============================\n",
      "*** Open Babel Warning  in PerceiveBondOrders\n",
      "  Failed to kekulize aromatic bonds in OBMol::PerceiveBondOrders\n",
      "\n",
      "  3%|██▏                                                                            | 172/6063 [00:00<00:20, 282.32it/s][12:46:10] Explicit valence for atom # 1 N, 4, is greater than permitted\n",
      "[12:46:10] Explicit valence for atom # 1 N, 4, is greater than permitted\n",
      "  4%|██▉                                                                            | 230/6063 [00:00<00:20, 284.41it/s]"
     ]
    },
    {
     "name": "stdout",
     "output_type": "stream",
     "text": [
      "couldn't add Hydrogens, implicit hydrogens might be missing\n"
     ]
    },
    {
     "name": "stderr",
     "output_type": "stream",
     "text": [
      "==============================\n",
      "*** Open Babel Warning  in PerceiveBondOrders\n",
      "  Failed to kekulize aromatic bonds in OBMol::PerceiveBondOrders\n",
      "\n",
      "  6%|████▉                                                                          | 375/6063 [00:01<00:20, 279.59it/s][12:46:10] Explicit valence for atom # 1 N, 4, is greater than permitted\n",
      "[12:46:10] Explicit valence for atom # 1 N, 4, is greater than permitted\n",
      "  7%|█████▋                                                                         | 434/6063 [00:01<00:19, 284.55it/s]"
     ]
    },
    {
     "name": "stdout",
     "output_type": "stream",
     "text": [
      "couldn't add Hydrogens, implicit hydrogens might be missing\n"
     ]
    },
    {
     "name": "stderr",
     "output_type": "stream",
     "text": [
      "  8%|██████                                                                         | 463/6063 [00:01<00:19, 282.27it/s]==============================\n",
      "*** Open Babel Warning  in PerceiveBondOrders\n",
      "  Failed to kekulize aromatic bonds in OBMol::PerceiveBondOrders\n",
      "\n",
      " 10%|███████▉                                                                       | 610/6063 [00:02<00:18, 287.27it/s]"
     ]
    },
    {
     "name": "stdout",
     "output_type": "stream",
     "text": [
      "CAJHOJGXDDYSFM-UHFFFAOYSA-N is none \n",
      "CEIUUIFCFNILSM-UHFFFAOYSA-N is none \n"
     ]
    },
    {
     "name": "stderr",
     "output_type": "stream",
     "text": [
      " 12%|█████████▍                                                                     | 727/6063 [00:02<00:18, 284.21it/s]==============================\n",
      "*** Open Babel Warning  in PerceiveBondOrders\n",
      "  Failed to kekulize aromatic bonds in OBMol::PerceiveBondOrders\n",
      "\n",
      " 12%|█████████▊                                                                     | 756/6063 [00:02<00:18, 284.01it/s]==============================\n",
      "*** Open Babel Warning  in PerceiveBondOrders\n",
      "  Failed to kekulize aromatic bonds in OBMol::PerceiveBondOrders\n",
      "\n",
      " 14%|███████████▍                                                                   | 873/6063 [00:03<00:18, 286.60it/s]==============================\n",
      "*** Open Babel Warning  in PerceiveBondOrders\n",
      "  Failed to kekulize aromatic bonds in OBMol::PerceiveBondOrders\n",
      "\n",
      " 16%|████████████▉                                                                  | 989/6063 [00:03<00:17, 283.91it/s]"
     ]
    },
    {
     "name": "stdout",
     "output_type": "stream",
     "text": [
      "DOIDPUHPNPZXJO-UHFFFAOYSA-N is none \n",
      "DSAYAFZWRDYBQY-UHFFFAOYSA-N is none \n",
      "DSUDAZJJNJYSJI-UHFFFAOYSA-N is none \n"
     ]
    },
    {
     "name": "stderr",
     "output_type": "stream",
     "text": [
      " 17%|█████████████▍                                                                | 1049/6063 [00:03<00:17, 291.20it/s]"
     ]
    },
    {
     "name": "stdout",
     "output_type": "stream",
     "text": [
      "DXGYDYIBDDJALB-UHFFFAOYSA-N is none \n",
      "DXMLCDOYYZUWGQ-UHFFFAOYSA-N is none \n",
      "DZBVCQDCGXMXSD-UHFFFAOYSA-N is none \n",
      "DZJCILSVHGABME-UHFFFAOYSA-N is none \n"
     ]
    },
    {
     "name": "stderr",
     "output_type": "stream",
     "text": [
      "==============================\n",
      "*** Open Babel Warning  in PerceiveBondOrders\n",
      "  Failed to kekulize aromatic bonds in OBMol::PerceiveBondOrders\n",
      "\n",
      " 18%|██████████████▎                                                               | 1109/6063 [00:03<00:17, 290.86it/s]==============================\n",
      "*** Open Babel Warning  in PerceiveBondOrders\n",
      "  Failed to kekulize aromatic bonds in OBMol::PerceiveBondOrders\n",
      "\n",
      " 19%|██████████████▋                                                               | 1139/6063 [00:04<00:17, 287.37it/s]"
     ]
    },
    {
     "name": "stdout",
     "output_type": "stream",
     "text": [
      "FFWSICBKRCICMR-UHFFFAOYSA-N is none \n",
      "FHEPZBIUHGLJMP-UHFFFAOYSA-N is none \n"
     ]
    },
    {
     "name": "stderr",
     "output_type": "stream",
     "text": [
      "==============================\n",
      "*** Open Babel Warning  in PerceiveBondOrders\n",
      "  Failed to kekulize aromatic bonds in OBMol::PerceiveBondOrders\n",
      "\n",
      " 19%|███████████████                                                               | 1168/6063 [00:04<00:17, 279.90it/s]==============================\n",
      "*** Open Babel Warning  in PerceiveBondOrders\n",
      "  Failed to kekulize aromatic bonds in OBMol::PerceiveBondOrders\n",
      "\n",
      " 21%|████████████████                                                              | 1253/6063 [00:04<00:17, 274.05it/s][12:46:14] Explicit valence for atom # 1 N, 4, is greater than permitted\n",
      "[12:46:14] Explicit valence for atom # 1 N, 4, is greater than permitted\n",
      " 22%|████████████████▉                                                             | 1312/6063 [00:04<00:16, 280.73it/s]"
     ]
    },
    {
     "name": "stdout",
     "output_type": "stream",
     "text": [
      "couldn't add Hydrogens, implicit hydrogens might be missing\n",
      "FYUZFGQCEXHZQV-UHFFFAOYSA-N is none \n"
     ]
    },
    {
     "name": "stderr",
     "output_type": "stream",
     "text": [
      " 23%|█████████████████▌                                                            | 1370/6063 [00:04<00:16, 280.52it/s]"
     ]
    },
    {
     "name": "stdout",
     "output_type": "stream",
     "text": [
      "GDIBOAXSCRIQSP-UHFFFAOYSA-N is none \n"
     ]
    },
    {
     "name": "stderr",
     "output_type": "stream",
     "text": [
      " 24%|██████████████████▋                                                           | 1457/6063 [00:05<00:16, 278.36it/s]"
     ]
    },
    {
     "name": "stdout",
     "output_type": "stream",
     "text": [
      "GKVDXUXIAHWQIK-UHFFFAOYSA-N is none \n"
     ]
    },
    {
     "name": "stderr",
     "output_type": "stream",
     "text": [
      " 25%|███████████████████▍                                                          | 1515/6063 [00:05<00:16, 280.85it/s]"
     ]
    },
    {
     "name": "stdout",
     "output_type": "stream",
     "text": [
      "GRTHDOCSFFMOHK-UHFFFAOYSA-N is none \n"
     ]
    },
    {
     "name": "stderr",
     "output_type": "stream",
     "text": [
      " 28%|█████████████████████▋                                                        | 1688/6063 [00:05<00:15, 276.15it/s]==============================\n",
      "*** Open Babel Warning  in PerceiveBondOrders\n",
      "  Failed to kekulize aromatic bonds in OBMol::PerceiveBondOrders\n",
      "\n",
      " 29%|██████████████████████▍                                                       | 1744/6063 [00:06<00:15, 276.46it/s]==============================\n",
      "*** Open Babel Warning  in PerceiveBondOrders\n",
      "  Failed to kekulize aromatic bonds in OBMol::PerceiveBondOrders\n",
      "\n",
      "==============================\n",
      "*** Open Babel Warning  in PerceiveBondOrders\n",
      "  Failed to kekulize aromatic bonds in OBMol::PerceiveBondOrders\n",
      "\n",
      " 29%|██████████████████████▊                                                       | 1773/6063 [00:06<00:15, 278.69it/s]==============================\n",
      "*** Open Babel Warning  in PerceiveBondOrders\n",
      "  Failed to kekulize aromatic bonds in OBMol::PerceiveBondOrders\n",
      "\n",
      " 30%|███████████████████████▏                                                      | 1803/6063 [00:06<00:15, 282.29it/s][12:46:16] Explicit valence for atom # 1 N, 4, is greater than permitted\n",
      "[12:46:16] Explicit valence for atom # 1 N, 4, is greater than permitted\n",
      " 31%|███████████████████████▉                                                      | 1861/6063 [00:06<00:14, 281.62it/s]"
     ]
    },
    {
     "name": "stdout",
     "output_type": "stream",
     "text": [
      "couldn't add Hydrogens, implicit hydrogens might be missing\n"
     ]
    },
    {
     "name": "stderr",
     "output_type": "stream",
     "text": [
      " 37%|████████████████████████████▊                                                 | 2241/6063 [00:07<00:13, 284.80it/s]"
     ]
    },
    {
     "name": "stdout",
     "output_type": "stream",
     "text": [
      "JOKLIZXAUFTLPB-UHFFFAOYSA-N is none \n"
     ]
    },
    {
     "name": "stderr",
     "output_type": "stream",
     "text": [
      "==============================\n",
      "*** Open Babel Warning  in PerceiveBondOrders\n",
      "  Failed to kekulize aromatic bonds in OBMol::PerceiveBondOrders\n",
      "\n",
      " 41%|███████████████████████████████▊                                              | 2474/6063 [00:08<00:12, 282.01it/s]==============================\n",
      "*** Open Babel Warning  in PerceiveBondOrders\n",
      "  Failed to kekulize aromatic bonds in OBMol::PerceiveBondOrders\n",
      "\n",
      " 41%|████████████████████████████████▏                                             | 2503/6063 [00:08<00:12, 283.43it/s]"
     ]
    },
    {
     "name": "stdout",
     "output_type": "stream",
     "text": [
      "KSVCWNYKIAZROO-UHFFFAOYSA-N is none \n",
      "KWQAATFBQGNPIN-UHFFFAOYSA-N is none \n"
     ]
    },
    {
     "name": "stderr",
     "output_type": "stream",
     "text": [
      " 43%|█████████████████████████████████▎                                            | 2590/6063 [00:09<00:12, 279.45it/s]==============================\n",
      "*** Open Babel Warning  in PerceiveBondOrders\n",
      "  Failed to kekulize aromatic bonds in OBMol::PerceiveBondOrders\n",
      "\n",
      " 47%|████████████████████████████████████▋                                         | 2853/6063 [00:10<00:11, 285.75it/s]"
     ]
    },
    {
     "name": "stdout",
     "output_type": "stream",
     "text": [
      "MCOPJQNXAFJCHU-UHFFFAOYSA-N is none \n",
      "couldn't add Hydrogens, implicit hydrogens might be missing\n"
     ]
    },
    {
     "name": "stderr",
     "output_type": "stream",
     "text": [
      "==============================\n",
      "*** Open Babel Warning  in PerceiveBondOrders\n",
      "  Failed to kekulize aromatic bonds in OBMol::PerceiveBondOrders\n",
      "\n",
      "[12:46:19] Explicit valence for atom # 1 N, 4, is greater than permitted\n",
      "[12:46:19] Explicit valence for atom # 1 N, 4, is greater than permitted\n",
      " 50%|███████████████████████████████████████▎                                      | 3057/6063 [00:10<00:10, 280.78it/s]==============================\n",
      "*** Open Babel Warning  in PerceiveBondOrders\n",
      "  Failed to kekulize aromatic bonds in OBMol::PerceiveBondOrders\n",
      "\n",
      " 51%|████████████████████████████████████████                                      | 3117/6063 [00:11<00:10, 290.83it/s]"
     ]
    },
    {
     "name": "stdout",
     "output_type": "stream",
     "text": [
      "NHKKSWQCIBBXRI-UHFFFAOYSA-N is none \n",
      "NINIDFKCEFEMDL-UHFFFAOYSA-N is none \n"
     ]
    },
    {
     "name": "stderr",
     "output_type": "stream",
     "text": [
      " 55%|██████████████████████████████████████████▋                                   | 3321/6063 [00:11<00:09, 281.50it/s]==============================\n",
      "*** Open Babel Warning  in PerceiveBondOrders\n",
      "  Failed to kekulize aromatic bonds in OBMol::PerceiveBondOrders\n",
      "\n",
      " 56%|███████████████████████████████████████████▊                                  | 3410/6063 [00:12<00:09, 284.47it/s]"
     ]
    },
    {
     "name": "stdout",
     "output_type": "stream",
     "text": [
      "OKTJSMMVPCPJKN-UHFFFAOYSA-N is none \n"
     ]
    },
    {
     "name": "stderr",
     "output_type": "stream",
     "text": [
      " 59%|█████████████████████████████████████████████▋                                | 3556/6063 [00:12<00:08, 284.35it/s]==============================\n",
      "*** Open Babel Warning  in PerceiveBondOrders\n",
      "  Failed to kekulize aromatic bonds in OBMol::PerceiveBondOrders\n",
      "\n",
      " 60%|██████████████████████████████████████████████▍                               | 3614/6063 [00:12<00:08, 282.04it/s]==============================\n",
      "*** Open Babel Warning  in PerceiveBondOrders\n",
      "  Failed to kekulize aromatic bonds in OBMol::PerceiveBondOrders\n",
      "\n",
      " 62%|███████████████████████████████████████████████▉                              | 3730/6063 [00:13<00:08, 285.45it/s]"
     ]
    },
    {
     "name": "stdout",
     "output_type": "stream",
     "text": [
      "PSUDWVOCELYWEJ-UHFFFAOYSA-N is none \n"
     ]
    },
    {
     "name": "stderr",
     "output_type": "stream",
     "text": [
      " 62%|████████████████████████████████████████████████▎                             | 3759/6063 [00:13<00:08, 283.34it/s][12:46:22] Explicit valence for atom # 0 N, 4, is greater than permitted\n",
      "[12:46:22] Explicit valence for atom # 0 N, 4, is greater than permitted\n",
      " 63%|█████████████████████████████████████████████████▏                            | 3820/6063 [00:13<00:07, 290.34it/s]"
     ]
    },
    {
     "name": "stdout",
     "output_type": "stream",
     "text": [
      "couldn't add Hydrogens, implicit hydrogens might be missing\n",
      "QJGQUHMNIGDVPM-UHFFFAOYSA-N is none \n",
      "QKEJCZRHWHPTSH-UHFFFAOYSA-N is none \n"
     ]
    },
    {
     "name": "stderr",
     "output_type": "stream",
     "text": [
      " 64%|█████████████████████████████████████████████████▉                            | 3879/6063 [00:13<00:07, 288.15it/s]"
     ]
    },
    {
     "name": "stdout",
     "output_type": "stream",
     "text": [
      "QMTGDJHXYKQMFE-UHFFFAOYSA-N is none \n"
     ]
    },
    {
     "name": "stderr",
     "output_type": "stream",
     "text": [
      " 65%|███████████████████████████████████████████████████                           | 3968/6063 [00:14<00:07, 288.49it/s]"
     ]
    },
    {
     "name": "stdout",
     "output_type": "stream",
     "text": [
      "QVGXLLKOCUKJST-UHFFFAOYSA-N is none \n"
     ]
    },
    {
     "name": "stderr",
     "output_type": "stream",
     "text": [
      " 67%|████████████████████████████████████████████████████▏                         | 4055/6063 [00:14<00:07, 282.53it/s]"
     ]
    },
    {
     "name": "stdout",
     "output_type": "stream",
     "text": [
      "RGCNEDLMLAQWMV-UHFFFAOYSA-N is none \n",
      "RKYCOGPXXQUQMH-UHFFFAOYSA-N is none \n"
     ]
    },
    {
     "name": "stderr",
     "output_type": "stream",
     "text": [
      " 73%|████████████████████████████████████████████████████████▉                     | 4429/6063 [00:15<00:06, 271.89it/s]==============================\n",
      "*** Open Babel Warning  in PerceiveBondOrders\n",
      "  Failed to kekulize aromatic bonds in OBMol::PerceiveBondOrders\n",
      "\n",
      " 74%|█████████████████████████████████████████████████████████▋                    | 4487/6063 [00:15<00:05, 278.07it/s]"
     ]
    },
    {
     "name": "stdout",
     "output_type": "stream",
     "text": [
      "SWQJXJOGLNCZEY-UHFFFAOYSA-N is none \n",
      "SYOVUQYBFHUDCP-UHFFFAOYSA-N is none \n"
     ]
    },
    {
     "name": "stderr",
     "output_type": "stream",
     "text": [
      " 75%|██████████████████████████████████████████████████████████▍                   | 4546/6063 [00:16<00:05, 283.85it/s]"
     ]
    },
    {
     "name": "stdout",
     "output_type": "stream",
     "text": [
      "TWPDUNYUPXVPTM-UHFFFAOYSA-N is none \n"
     ]
    },
    {
     "name": "stderr",
     "output_type": "stream",
     "text": [
      " 77%|███████████████████████████████████████████████████████████▉                  | 4662/6063 [00:16<00:04, 283.19it/s]==============================\n",
      "*** Open Babel Warning  in PerceiveBondOrders\n",
      "  Failed to kekulize aromatic bonds in OBMol::PerceiveBondOrders\n",
      "\n",
      " 81%|██████████████████████████████████████████████████████████████▉               | 4892/6063 [00:17<00:04, 277.50it/s]==============================\n",
      "*** Open Babel Warning  in PerceiveBondOrders\n",
      "  Failed to kekulize aromatic bonds in OBMol::PerceiveBondOrders\n",
      "\n",
      " 82%|████████████████████████████████████████████████████████████████              | 4980/6063 [00:17<00:03, 279.90it/s]"
     ]
    },
    {
     "name": "stdout",
     "output_type": "stream",
     "text": [
      "VOKAIBSFVGDOKS-UHFFFAOYSA-N is none \n"
     ]
    },
    {
     "name": "stderr",
     "output_type": "stream",
     "text": [
      " 84%|█████████████████████████████████████████████████████████████████▏            | 5065/6063 [00:17<00:03, 278.20it/s]==============================\n",
      "*** Open Babel Warning  in PerceiveBondOrders\n",
      "  Failed to kekulize aromatic bonds in OBMol::PerceiveBondOrders\n",
      "\n",
      " 84%|█████████████████████████████████████████████████████████████████▉            | 5122/6063 [00:18<00:03, 280.73it/s]==============================\n",
      "*** Open Babel Warning  in PerceiveBondOrders\n",
      "  Failed to kekulize aromatic bonds in OBMol::PerceiveBondOrders\n",
      "\n",
      " 85%|██████████████████████████████████████████████████████████████████▎           | 5151/6063 [00:18<00:03, 266.65it/s]==============================\n",
      "*** Open Babel Warning  in PerceiveBondOrders\n",
      "  Failed to kekulize aromatic bonds in OBMol::PerceiveBondOrders\n",
      "\n",
      " 86%|███████████████████████████████████████████████████████████████████▍          | 5239/6063 [00:18<00:02, 282.59it/s]"
     ]
    },
    {
     "name": "stdout",
     "output_type": "stream",
     "text": [
      "WOZZBQKVSNYYSM-UHFFFAOYSA-N is none \n"
     ]
    },
    {
     "name": "stderr",
     "output_type": "stream",
     "text": [
      " 87%|████████████████████████████████████████████████████████████████████▏         | 5297/6063 [00:18<00:02, 280.68it/s]==============================\n",
      "*** Open Babel Warning  in PerceiveBondOrders\n",
      "  Failed to kekulize aromatic bonds in OBMol::PerceiveBondOrders\n",
      "\n",
      " 88%|████████████████████████████████████████████████████████████████████▌         | 5326/6063 [00:18<00:02, 279.39it/s]==============================\n",
      "*** Open Babel Warning  in PerceiveBondOrders\n",
      "  Failed to kekulize aromatic bonds in OBMol::PerceiveBondOrders\n",
      "\n",
      " 89%|█████████████████████████████████████████████████████████████████████▌        | 5412/6063 [00:19<00:02, 279.54it/s][12:46:28] Explicit valence for atom # 1 N, 4, is greater than permitted\n",
      "[12:46:28] Explicit valence for atom # 1 N, 4, is greater than permitted\n",
      " 90%|██████████████████████████████████████████████████████████████████████        | 5442/6063 [00:19<00:02, 284.98it/s]"
     ]
    },
    {
     "name": "stdout",
     "output_type": "stream",
     "text": [
      "XKRFYHLGVUSROY-UHFFFAOYSA-N is none \n",
      "couldn't add Hydrogens, implicit hydrogens might be missing\n",
      "XPGFERQQLIGTRR-UHFFFAOYSA-N is none \n",
      "XQKHFRBXPZGCOX-UHFFFAOYSA-N is none \n"
     ]
    },
    {
     "name": "stderr",
     "output_type": "stream",
     "text": [
      " 91%|███████████████████████████████████████████████████████████████████████▏      | 5531/6063 [00:19<00:01, 287.76it/s]==============================\n",
      "*** Open Babel Warning  in PerceiveBondOrders\n",
      "  Failed to kekulize aromatic bonds in OBMol::PerceiveBondOrders\n",
      "\n",
      " 92%|███████████████████████████████████████████████████████████████████████▉      | 5589/6063 [00:19<00:01, 285.54it/s]"
     ]
    },
    {
     "name": "stdout",
     "output_type": "stream",
     "text": [
      "YBSDNOGHLUKFQJ-UHFFFAOYSA-N is none \n",
      "YEXWOGKLXXTUCJ-UHFFFAOYSA-N is none \n"
     ]
    },
    {
     "name": "stderr",
     "output_type": "stream",
     "text": [
      " 93%|████████████████████████████████████████████████████████████████████████▎     | 5618/6063 [00:19<00:01, 282.34it/s]==============================\n",
      "*** Open Babel Warning  in PerceiveBondOrders\n",
      "  Failed to kekulize aromatic bonds in OBMol::PerceiveBondOrders\n",
      "\n",
      " 94%|█████████████████████████████████████████████████████████████████████████▍    | 5706/6063 [00:20<00:01, 283.19it/s]"
     ]
    },
    {
     "name": "stdout",
     "output_type": "stream",
     "text": [
      "YNJHMFXRHDPWCD-UHFFFAOYSA-N is none \n"
     ]
    },
    {
     "name": "stderr",
     "output_type": "stream",
     "text": [
      " 96%|██████████████████████████████████████████████████████████████████████████▉   | 5823/6063 [00:20<00:00, 285.69it/s]"
     ]
    },
    {
     "name": "stdout",
     "output_type": "stream",
     "text": [
      "YZCKVEUIGOORGS-UHFFFAOYSA-N is none \n",
      "ZAMOUSCENKQFHK-UHFFFAOYSA-N is none \n",
      "ZDIIMEPYWRZOSI-UHFFFAOYSA-N is none \n"
     ]
    },
    {
     "name": "stderr",
     "output_type": "stream",
     "text": [
      " 97%|████████████████████████████████████████████████████████████████████████████  | 5910/6063 [00:20<00:00, 284.89it/s]"
     ]
    },
    {
     "name": "stdout",
     "output_type": "stream",
     "text": [
      "ZGOHZDSOGSCHIE-UHFFFAOYSA-N is none \n"
     ]
    },
    {
     "name": "stderr",
     "output_type": "stream",
     "text": [
      "100%|██████████████████████████████████████████████████████████████████████████████| 6063/6063 [00:21<00:00, 281.56it/s]\n"
     ]
    },
    {
     "name": "stdout",
     "output_type": "stream",
     "text": [
      "full info molecules 6017\n"
     ]
    },
    {
     "name": "stderr",
     "output_type": "stream",
     "text": [
      "28953it [01:45, 273.81it/s]\n"
     ]
    },
    {
     "name": "stdout",
     "output_type": "stream",
     "text": [
      "{'gibbs': 0, 'entropy': 1, 'topo': 7, 'morgan': 107, 'hom-lum': 108, 'homo': 109, 'lumo': 110, 'min_lumo_reactants': 111, 'max_lumo_reactants': 112, 'max_h-l_reactants': 113, 'min_homo_reactants': 114, 'max_homo_reactants': 115, 'min_lumo_products': 116, 'max_lumo_products': 117, 'max_h-l_products': 118, 'min_homo_products': 119, 'max_homo_products': 120}\n"
     ]
    },
    {
     "data": {
      "text/plain": [
       "[array([[-4.86499346e+02,  4.94403605e+01, -2.92528740e-01, ...,\n",
       "          8.27305000e+00, -6.99058000e+00, -6.99058000e+00],\n",
       "        [-4.55574540e+02,  4.44152860e+01, -9.61331711e-01, ...,\n",
       "          5.08333000e+00, -5.96429000e+00, -5.96429000e+00],\n",
       "        [-4.51263156e+02,  4.77067035e+01, -1.16350396e+00, ...,\n",
       "          5.07604000e+00, -5.57917000e+00, -5.57917000e+00],\n",
       "        ...,\n",
       "        [-2.37001211e+01,  1.80066977e+00, -7.53336385e-01, ...,\n",
       "          1.19714000e+00, -3.78326000e+00, -3.78326000e+00],\n",
       "        [-2.74155212e+02,  5.55656932e+01,  3.37644960e-01, ...,\n",
       "          3.69964000e+00, -5.15203000e+00, -5.15203000e+00],\n",
       "        [-1.91907661e+02,  3.18152448e+01,  1.81862582e+00, ...,\n",
       "          1.47009000e+00, -5.72516000e+00, -5.72516000e+00]]),\n",
       " array([22133.4  ,   157.737,  -111.713, ..., 71175.566, -2093.399,\n",
       "         2590.   ]),\n",
       " array([    0,     6,     7, ..., 28949, 28951, 28952])]"
      ]
     },
     "execution_count": 50,
     "metadata": {},
     "output_type": "execute_result"
    }
   ],
   "source": [
    "my_featurizer = Featurizer()\n",
    "molecdict = my_featurizer.update_molecular_dict(out=True)\n",
    "my_featurizer.trainingsetgenerator(features = [\n",
    "    \"gibbs\",\n",
    "    \"entropy\",\n",
    "    \"topo\",\n",
    "    \"morgan\",\n",
    "    \"hom-lum\",\n",
    "    \"homo\",\n",
    "    \"lumo\",\n",
    "    'min_lumo_reactants',\n",
    "    'max_lumo_reactants',\n",
    "    'max_h-l_reactants',\n",
    "    'min_homo_reactants',\n",
    "    'max_homo_reactants',\n",
    "    'min_lumo_products',\n",
    "    'max_lumo_products',\n",
    "    'max_h-l_products',\n",
    "    'min_homo_products',\n",
    "    'max_homo_products',\n",
    "],out=True)"
   ]
  },
  {
   "cell_type": "markdown",
   "id": "158300e3",
   "metadata": {},
   "source": [
    "Once the cell above is done running the \"training_set\" directory will have a '.trainingvalues' and a '.trainingfeatures' file that can be used read with the np.load function to read in an x array of descriptors and a y array of activatione energy values. Additionally a 'reaction_indices_out.json' file is present which gives the index of the reaction back in the reactions.json file \n",
    "\n",
    "i.e. \n",
    "\n",
    "    the first element reaction_indices_out.json says '6', meaning that the first element of xxx.trainvalues and xxx.trainfeatures refers to reaction no. 6 in reactions.json.\n",
    "\n",
    "Lastly the features_explained.json gives an index value for all the indices in the descriptor of the reaction explaining what property it corresponds to."
   ]
  },
  {
   "cell_type": "markdown",
   "id": "417009e5",
   "metadata": {},
   "source": [
    "# How to add new molecules and reactions\n",
    "\n",
    "To add new entries to the reaction datase you require access to a DFT package and the reaction database. This notebook merely provides the steps needed once the DFT values are calculated.\n",
    "In order to add new data to the training set you need the following: \n",
    "\n",
    "    - Activation energy and stoichiometry for reactions to be added (All values used were taken from the RMG database but actuvation energies can also be calculated using Transition state search methods).\n",
    "\n",
    "    - Geometry Optimized/Relaxed Molecular structure \n",
    "    \n",
    "    - Energetics from geometry relaxation and Thermodynamic calculation (Gibbs energies @ 0 and 300 K, HOMO and LUMO)\n",
    "    \n",
    "    NB: Current thermodynamic  data is calculated  using PBE with def2-SVP basis sets in TURBOMOLE. To add new species to this specific dataset the same XC-Functional and basis set must be used (ideally with the same DFT package).\n",
    "    link to Turbomole manual : https://www.turbomole.org/wp-content/uploads/2019/10/Turbomole_Manual_7-4.pdf\n",
    "    Page (44/270 has instructions on how it can be used) In all other cases the thermodynamic data for all molecules must be recalculated and included. \n",
    "\n",
    "The geometry optimized molecule coordinate file in XYZ format must be placed as follows: \n",
    "         \n",
    "         Example: package_installation_path/dft-results/XXXXXXXXXXXXXX-UHFFFAOYSA-N/relaxed_XXXXXXXXXXXXXX-UHFFFAOYSA-N.xyz\n",
    "\n",
    "Then, the DFT information has to be updated in the dft_data.json file as mentioned above. This file has different values that must be filled in, namely:\n",
    "\n",
    "    - \"G0\":float((XXX.XXX)  # Free energy at 0 K in KJ/mol\n",
    "    \n",
    "    - \"dG300\": float(XXX.XXX) , # Change in free energy between 0 and 300 K G@300-G0 in KJ/mol\n",
    "    \n",
    "    - \"HOMO\": float((XXX.XXX) , # Value of HOMO of molecule in eV\n",
    "    \n",
    "    - \"LUMO\": float((XXX.XXX), # Value of LUMO of molecule in eV\n",
    "    \n",
    "\n",
    "\n",
    "\n",
    "Once again, note that this notebook will not calculate the DFT neccessary information, this must be done with an external package. In principle any DFT package can calculate the neccessary values. We recommend TURBOMOLE for the use of their  \"freeh\" property calculation package that provides the neccessary free energy values.\n",
    "\n",
    "Once all molecules have been placedThe reaction then has to be included in the file reactions.data where the inchi keys of the products and reactions must be filled in as follows:\n",
    "\n",
    "\n",
    "\"ProdInChI\": [\n",
    "      \"XXXXXXXXXXXXXX-UHFFFAOYSA-N\"\n",
    "      \"XXXXXXXXXXXXXX-UHFFFAOYSA-N\"\n",
    "    ],\n",
    "    \"ReacInChI\": [\n",
    "      \"XXXXXXXXXXXXXX-UHFFFAOYSA-N\",\n",
    "      \"XXXXXXXXXXXXXX-UHFFFAOYSA-N\"\n",
    "    ]\n",
    "\n",
    "\n",
    "and the activation energy must be filled in as follows:\n",
    "    \n",
    "    'Ea [kJ/mol]': float(XXX.XXX)\n",
    "\n",
    "\n",
    "with supported units being :\n",
    "    \n",
    "    '[J/mol]':\n",
    "    \n",
    "    '[cal/mol]'\n",
    "    \n",
    "    '[kJ/mol]'\n",
    "    \n",
    "    '[kcal/mol]'\n"
   ]
  },
  {
   "cell_type": "markdown",
   "id": "beb58144",
   "metadata": {},
   "source": [
    "# Worked Out Example\n",
    "\n",
    "We now show how to add the reaction \n",
    "Si + H4Si -> H4Si2"
   ]
  },
  {
   "cell_type": "code",
   "execution_count": 46,
   "id": "325df029",
   "metadata": {},
   "outputs": [],
   "source": [
    "# From DFT calculations we calculated the following values : \n",
    "new_molecule_data = {\n",
    "  \"XUIMIQQOPSSXEZ-UHFFFAOYSA-N\": {\n",
    "    \"G0\": -759345.7427262537,\n",
    "    \"dG300\": -42.291110149701126,\n",
    "    \"HOMO\": -4.58985,\n",
    "    \"LUMO\": -2.96025,\n",
    "  },\n",
    "    \"BLRPTPMANUNPDV-UHFFFAOYSA-N\": {\n",
    "    \"G0\": -765831.3345236926,\n",
    "    \"dG300\": -57.260016584652476,\n",
    "    \"HOMO\": -8.4915,\n",
    "    \"LUMO\": 0.21139,\n",
    "  },\n",
    "\"BAGSMSWGHZVCIQ-UHFFFAOYSA-N\": {\n",
    "    \"G0\": -1525368.9849108877,\n",
    "    \"dG300\": -67.73588191042654,\n",
    "    \"HOMO\": -5.72516,\n",
    "    \"LUMO\": -4.25507,\n",
    "  }\n",
    "}"
   ]
  },
  {
   "cell_type": "code",
   "execution_count": 47,
   "id": "8d756e0b",
   "metadata": {},
   "outputs": [],
   "source": [
    "#We take from the NIST database the following information\n",
    "new_reaction = {\n",
    "    \"Reactants\":[\n",
    "      \"InChI=1S/Si\",\n",
    "      \"InChI=1S/H4Si/h1H4\"\n",
    "    ],\n",
    "    \"Products\": [\n",
    "      \"InChI=1S/H4Si2/c1-2/h1H,2H3\"\n",
    "    ],\n",
    "    \"Ea [kJ/mol]\": 2.59,\n",
    "    \"link\": \"https://kinetics.nist.gov/kinetics/ReactionSearch?r0=7440213&r1=7803625&r2=0&r3=0&r4=0&p0=50420901&p1=0&p2=0&p3=0&p4=0&expandResults=true&\",\n",
    "    \"ReacInChI\": [\n",
    "      \"XUIMIQQOPSSXEZ-UHFFFAOYSA-N\",\n",
    "      \"BLRPTPMANUNPDV-UHFFFAOYSA-N\"\n",
    "    ],\n",
    "    \"ProdInChI\": [\n",
    "      \"BAGSMSWGHZVCIQ-UHFFFAOYSA-N\"\n",
    "    ],\n",
    "    \"rxn_index\": 28952\n",
    "}"
   ]
  },
  {
   "cell_type": "code",
   "execution_count": 48,
   "id": "5e4b6764",
   "metadata": {},
   "outputs": [
    {
     "data": {
      "text/plain": [
       "297"
      ]
     },
     "execution_count": 48,
     "metadata": {},
     "output_type": "execute_result"
    }
   ],
   "source": [
    "# Now we incorporate all the information: \n",
    "\n",
    "all_reactions = json.loads(open(\"reactions.json\",'r').read())\n",
    "all_reactions.append(new_reaction)\n",
    "json.dump(all_reactions, open('reactions.json','w'), indent=2)\n",
    "\n",
    "all_mol_data = json.loads(open(\"./dft_results/dft_data.json\",'r').read())\n",
    "all_mol_data.update(new_molecule_data)\n",
    "json.dump(all_mol_data, open('./dft_results/dft_data.json','w'), indent=2)\n",
    "\n",
    "if not os.path.isdir('./dft_results/XUIMIQQOPSSXEZ-UHFFFAOYSA-N'):\n",
    "    os.mkdir('./dft_results/XUIMIQQOPSSXEZ-UHFFFAOYSA-N')\n",
    "molec = pybel.readstring('inchi',\"InChI=1S/Si\")\n",
    "molec.localopt()\n",
    "open('./dft_results/XUIMIQQOPSSXEZ-UHFFFAOYSA-N/relaxed_XUIMIQQOPSSXEZ-UHFFFAOYSA-N.xyz','w').write(molec.write('xyz'))\n",
    "\n",
    "if not os.path.isdir('./dft_results/BLRPTPMANUNPDV-UHFFFAOYSA-N'):\n",
    "    os.mkdir('./dft_results/BLRPTPMANUNPDV-UHFFFAOYSA-N')\n",
    "molec = pybel.readstring('inchi',\"InChI=1S/H4Si/h1H4\")\n",
    "molec.localopt()\n",
    "open('./dft_results/BLRPTPMANUNPDV-UHFFFAOYSA-N/relaxed_BLRPTPMANUNPDV-UHFFFAOYSA-N.xyz','w').write(molec.write('xyz'))\n",
    "\n",
    "if not os.path.isdir('./dft_results/BAGSMSWGHZVCIQ-UHFFFAOYSA-N'):\n",
    "    os.mkdir('./dft_results/BAGSMSWGHZVCIQ-UHFFFAOYSA-N')\n",
    "molec = pybel.readstring('inchi',\"InChI=1S/H4Si2/c1-2/h1H,2H3\")\n",
    "molec.localopt()\n",
    "open('./dft_results/BAGSMSWGHZVCIQ-UHFFFAOYSA-N/relaxed_BAGSMSWGHZVCIQ-UHFFFAOYSA-N.xyz','w').write(molec.write('xyz'))\n",
    "\n"
   ]
  },
  {
   "cell_type": "code",
   "execution_count": null,
   "id": "62b41c8e",
   "metadata": {},
   "outputs": [],
   "source": []
  }
 ],
 "metadata": {
  "kernelspec": {
   "display_name": "Python 3 (ipykernel)",
   "language": "python",
   "name": "python3"
  },
  "language_info": {
   "codemirror_mode": {
    "name": "ipython",
    "version": 3
   },
   "file_extension": ".py",
   "mimetype": "text/x-python",
   "name": "python",
   "nbconvert_exporter": "python",
   "pygments_lexer": "ipython3",
   "version": "3.10.8"
  }
 },
 "nbformat": 4,
 "nbformat_minor": 5
}
