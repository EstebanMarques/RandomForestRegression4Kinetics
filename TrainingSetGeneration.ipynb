{
 "cells": [
  {
   "cell_type": "code",
   "execution_count": 6,
   "id": "512e0d96",
   "metadata": {},
   "outputs": [],
   "source": [
    "import abc\n",
    "import numpy as np\n",
    "import os\n",
    "import json\n",
    "from openbabel import pybel\n",
    "from rdkit import Chem\n",
    "from rdkit.Chem import AllChem\n",
    "import pdb\n",
    "import itertools\n",
    "from tqdm import tqdm\n",
    "from Features import DualMol\n",
    "from Features import Featurizer\n",
    "import shutil"
   ]
  },
  {
   "cell_type": "markdown",
   "id": "d75eff27",
   "metadata": {},
   "source": [
    "# Configuration\n",
    "First step is to set up the configuration file.\n",
    "\n",
    "The code Below does this for you assuming this jupyter notebook is run in the same directory as all of the other "
   ]
  },
  {
   "cell_type": "code",
   "execution_count": 2,
   "id": "2074167e",
   "metadata": {},
   "outputs": [],
   "source": [
    "config_values = {\n",
    "\"training_set_directory\": os.path.join(os.getcwd(),\"training_sets\"), # directory where all new training sets will be made\n",
    "\"searches_directory\": os.getcwd(),  # Directory where the reactions.json file is found\n",
    "\"species_db\":os.path.join(os.getcwd(),os.path.join('dft_results','dft_data.json')), # path to the file with the post processesd DFT data \n",
    "\"dft_results\": os.path.join(os.getcwd(),'dft_results'), # path to the directory of the relaxed xyz files of molecules\n",
    "\"molecular_dict\":  os.path.join(os.getcwd(),'molec_descriptor.dict') #json databaseof all features\n",
    "}\n",
    "\n",
    "json.dump(config_values,open('config.json','w'),indent=2)"
   ]
  },
  {
   "cell_type": "markdown",
   "id": "1b10d8b3",
   "metadata": {},
   "source": [
    "The way the code works is as follows:\n",
    "\n",
    "The Featurizer object will be instantiated with all the necessary  paths. It will first update the molecular dictionary, containing the molecular features/descriptors. The source from the update comes from two separate locations:\n",
    "\n",
    "The first is the relaxed structure of the molecule, which should be located inside a directory within the \"dft_results\" directory. Note that the file containing the relaxed/optimized specie should be and XYZ file and have the \"relaxed_\" prefix. Currently xyz files are the only ones supported, but it should not be dificult to make the code robust to other file types \n",
    "\n",
    "        Example: dft-results/XXXXXXXXXXXXXX-UHFFFAOYSA-N/relaxed_XXXXXXXXXXXXXX-UHFFFAOYSA-N.xyz\n",
    "\n",
    "The second Source of data is the dft_data.json file which has 4 values for each specie:\n",
    "\n",
    "    - Gibbs free energy at 0K (G0) [J/mol]\n",
    "    \n",
    "    - Difference between Gibbs free energy at 0K and Gibbs free energy at 300K  (dG300) [J/mol]\n",
    "    \n",
    "    - Highest Occupied Molecular Orbital energy Value [eV]\n",
    "    \n",
    "    - Lowest Unoccupied Molecular Orbital energy Value [eV]\n",
    "    \n",
    "    We have also added spin dependent \n",
    "\n",
    "With all of this in place we can create a training set with all of the available features. Features can be included and omitted  to create training sets of different features. The created training values and feature vectors will be placed in the training_sets directory, unless otherwise specified in the config file."
   ]
  },
  {
   "cell_type": "code",
   "execution_count": 3,
   "id": "2295fa97",
   "metadata": {},
   "outputs": [
    {
     "name": "stderr",
     "output_type": "stream",
     "text": [
      "  0%|                                                                                          | 0/6060 [00:00<?, ?it/s]==============================\n",
      "*** Open Babel Warning  in PerceiveBondOrders\n",
      "  Failed to kekulize aromatic bonds in OBMol::PerceiveBondOrders\n",
      "\n",
      "  3%|██                                                                             | 157/6060 [00:00<00:22, 256.72it/s][17:37:54] Explicit valence for atom # 1 N, 4, is greater than permitted\n",
      "[17:37:54] Explicit valence for atom # 1 N, 4, is greater than permitted\n",
      "  3%|██▋                                                                            | 210/6060 [00:00<00:22, 257.13it/s]"
     ]
    },
    {
     "name": "stdout",
     "output_type": "stream",
     "text": [
      "couldn't add Hydrogens, implicit hydrogens might be missing\n"
     ]
    },
    {
     "name": "stderr",
     "output_type": "stream",
     "text": [
      "  4%|███                                                                            | 236/6060 [00:00<00:22, 257.46it/s]==============================\n",
      "*** Open Babel Warning  in PerceiveBondOrders\n",
      "  Failed to kekulize aromatic bonds in OBMol::PerceiveBondOrders\n",
      "\n",
      "  6%|████▊                                                                          | 371/6060 [00:01<00:22, 257.76it/s][17:37:55] Explicit valence for atom # 1 N, 4, is greater than permitted\n",
      "[17:37:55] Explicit valence for atom # 1 N, 4, is greater than permitted\n",
      "  7%|█████▌                                                                         | 425/6060 [00:01<00:24, 227.25it/s]"
     ]
    },
    {
     "name": "stdout",
     "output_type": "stream",
     "text": [
      "couldn't add Hydrogens, implicit hydrogens might be missing\n"
     ]
    },
    {
     "name": "stderr",
     "output_type": "stream",
     "text": [
      "  7%|█████▊                                                                         | 449/6060 [00:01<00:24, 229.76it/s]==============================\n",
      "*** Open Babel Warning  in PerceiveBondOrders\n",
      "  Failed to kekulize aromatic bonds in OBMol::PerceiveBondOrders\n",
      "\n",
      " 10%|███████▌                                                                       | 580/6060 [00:02<00:21, 257.06it/s]"
     ]
    },
    {
     "name": "stdout",
     "output_type": "stream",
     "text": [
      "CAJHOJGXDDYSFM-UHFFFAOYSA-N is none \n",
      "CEIUUIFCFNILSM-UHFFFAOYSA-N is none \n"
     ]
    },
    {
     "name": "stderr",
     "output_type": "stream",
     "text": [
      " 12%|█████████▋                                                                     | 744/6060 [00:02<00:20, 261.24it/s]==============================\n",
      "*** Open Babel Warning  in PerceiveBondOrders\n",
      "  Failed to kekulize aromatic bonds in OBMol::PerceiveBondOrders\n",
      "\n",
      "==============================\n",
      "*** Open Babel Warning  in PerceiveBondOrders\n",
      "  Failed to kekulize aromatic bonds in OBMol::PerceiveBondOrders\n",
      "\n",
      " 15%|███████████▍                                                                   | 880/6060 [00:03<00:19, 263.65it/s]==============================\n",
      "*** Open Babel Warning  in PerceiveBondOrders\n",
      "  Failed to kekulize aromatic bonds in OBMol::PerceiveBondOrders\n",
      "\n",
      " 16%|████████████▌                                                                  | 961/6060 [00:03<00:19, 258.94it/s]"
     ]
    },
    {
     "name": "stdout",
     "output_type": "stream",
     "text": [
      "DOIDPUHPNPZXJO-UHFFFAOYSA-N is none \n",
      "DSAYAFZWRDYBQY-UHFFFAOYSA-N is none \n",
      "DSUDAZJJNJYSJI-UHFFFAOYSA-N is none \n"
     ]
    },
    {
     "name": "stderr",
     "output_type": "stream",
     "text": [
      " 17%|█████████████▍                                                                | 1046/6060 [00:04<00:18, 271.97it/s]"
     ]
    },
    {
     "name": "stdout",
     "output_type": "stream",
     "text": [
      "DXGYDYIBDDJALB-UHFFFAOYSA-N is none \n",
      "DXMLCDOYYZUWGQ-UHFFFAOYSA-N is none \n",
      "DZBVCQDCGXMXSD-UHFFFAOYSA-N is none \n",
      "DZJCILSVHGABME-UHFFFAOYSA-N is none \n"
     ]
    },
    {
     "name": "stderr",
     "output_type": "stream",
     "text": [
      "==============================\n",
      "*** Open Babel Warning  in PerceiveBondOrders\n",
      "  Failed to kekulize aromatic bonds in OBMol::PerceiveBondOrders\n",
      "\n",
      " 18%|██████████████▏                                                               | 1102/6060 [00:04<00:18, 270.15it/s]==============================\n",
      "*** Open Babel Warning  in PerceiveBondOrders\n",
      "  Failed to kekulize aromatic bonds in OBMol::PerceiveBondOrders\n",
      "\n",
      " 19%|██████████████▌                                                               | 1130/6060 [00:04<00:18, 269.86it/s]"
     ]
    },
    {
     "name": "stdout",
     "output_type": "stream",
     "text": [
      "FFWSICBKRCICMR-UHFFFAOYSA-N is none \n",
      "FHEPZBIUHGLJMP-UHFFFAOYSA-N is none \n"
     ]
    },
    {
     "name": "stderr",
     "output_type": "stream",
     "text": [
      "==============================\n",
      "*** Open Babel Warning  in PerceiveBondOrders\n",
      "  Failed to kekulize aromatic bonds in OBMol::PerceiveBondOrders\n",
      "\n",
      " 19%|██████████████▉                                                               | 1158/6060 [00:04<00:18, 262.81it/s]==============================\n",
      "*** Open Babel Warning  in PerceiveBondOrders\n",
      "  Failed to kekulize aromatic bonds in OBMol::PerceiveBondOrders\n",
      "\n",
      " 20%|███████████████▉                                                              | 1238/6060 [00:04<00:18, 258.70it/s][17:37:59] Explicit valence for atom # 1 N, 4, is greater than permitted\n",
      "[17:37:59] Explicit valence for atom # 1 N, 4, is greater than permitted\n",
      " 21%|████████████████▋                                                             | 1292/6060 [00:05<00:18, 261.51it/s]"
     ]
    },
    {
     "name": "stdout",
     "output_type": "stream",
     "text": [
      "couldn't add Hydrogens, implicit hydrogens might be missing\n",
      "FYUZFGQCEXHZQV-UHFFFAOYSA-N is none \n"
     ]
    },
    {
     "name": "stderr",
     "output_type": "stream",
     "text": [
      " 22%|█████████████████▎                                                            | 1346/6060 [00:05<00:18, 261.64it/s]"
     ]
    },
    {
     "name": "stdout",
     "output_type": "stream",
     "text": [
      "GDIBOAXSCRIQSP-UHFFFAOYSA-N is none \n"
     ]
    },
    {
     "name": "stderr",
     "output_type": "stream",
     "text": [
      " 24%|██████████████████▎                                                           | 1427/6060 [00:05<00:17, 262.63it/s]"
     ]
    },
    {
     "name": "stdout",
     "output_type": "stream",
     "text": [
      "GKVDXUXIAHWQIK-UHFFFAOYSA-N is none \n"
     ]
    },
    {
     "name": "stderr",
     "output_type": "stream",
     "text": [
      " 25%|███████████████████▍                                                          | 1508/6060 [00:05<00:17, 261.55it/s]"
     ]
    },
    {
     "name": "stdout",
     "output_type": "stream",
     "text": [
      "GRTHDOCSFFMOHK-UHFFFAOYSA-N is none \n"
     ]
    },
    {
     "name": "stderr",
     "output_type": "stream",
     "text": [
      " 28%|█████████████████████▊                                                        | 1693/6060 [00:06<00:17, 250.75it/s]==============================\n",
      "*** Open Babel Warning  in PerceiveBondOrders\n",
      "  Failed to kekulize aromatic bonds in OBMol::PerceiveBondOrders\n",
      "\n",
      " 29%|██████████████████████▍                                                       | 1746/6060 [00:06<00:16, 256.05it/s]==============================\n",
      "*** Open Babel Warning  in PerceiveBondOrders\n",
      "  Failed to kekulize aromatic bonds in OBMol::PerceiveBondOrders\n",
      "\n",
      "==============================\n",
      "*** Open Babel Warning  in PerceiveBondOrders\n",
      "  Failed to kekulize aromatic bonds in OBMol::PerceiveBondOrders\n",
      "\n",
      " 29%|██████████████████████▊                                                       | 1772/6060 [00:06<00:16, 257.10it/s]==============================\n",
      "*** Open Babel Warning  in PerceiveBondOrders\n",
      "  Failed to kekulize aromatic bonds in OBMol::PerceiveBondOrders\n",
      "\n",
      " 30%|███████████████████████▏                                                      | 1799/6060 [00:06<00:16, 260.58it/s][17:38:01] Explicit valence for atom # 1 N, 4, is greater than permitted\n",
      "[17:38:01] Explicit valence for atom # 1 N, 4, is greater than permitted\n",
      " 31%|███████████████████████▊                                                      | 1852/6060 [00:07<00:16, 257.51it/s]"
     ]
    },
    {
     "name": "stdout",
     "output_type": "stream",
     "text": [
      "couldn't add Hydrogens, implicit hydrogens might be missing\n"
     ]
    },
    {
     "name": "stderr",
     "output_type": "stream",
     "text": [
      " 37%|████████████████████████████▉                                                 | 2245/6060 [00:08<00:15, 244.83it/s]"
     ]
    },
    {
     "name": "stdout",
     "output_type": "stream",
     "text": [
      "JOKLIZXAUFTLPB-UHFFFAOYSA-N is none \n"
     ]
    },
    {
     "name": "stderr",
     "output_type": "stream",
     "text": [
      "==============================\n",
      "*** Open Babel Warning  in PerceiveBondOrders\n",
      "  Failed to kekulize aromatic bonds in OBMol::PerceiveBondOrders\n",
      "\n",
      " 41%|███████████████████████████████▉                                              | 2482/6060 [00:09<00:13, 260.44it/s]==============================\n",
      "*** Open Babel Warning  in PerceiveBondOrders\n",
      "  Failed to kekulize aromatic bonds in OBMol::PerceiveBondOrders\n",
      "\n",
      " 41%|████████████████████████████████▎                                             | 2509/6060 [00:09<00:13, 263.23it/s]"
     ]
    },
    {
     "name": "stdout",
     "output_type": "stream",
     "text": [
      "KSVCWNYKIAZROO-UHFFFAOYSA-N is none \n",
      "KWQAATFBQGNPIN-UHFFFAOYSA-N is none \n"
     ]
    },
    {
     "name": "stderr",
     "output_type": "stream",
     "text": [
      " 42%|████████████████████████████████▉                                             | 2563/6060 [00:10<00:13, 261.69it/s]==============================\n",
      "*** Open Babel Warning  in PerceiveBondOrders\n",
      "  Failed to kekulize aromatic bonds in OBMol::PerceiveBondOrders\n",
      "\n",
      " 47%|████████████████████████████████████▍                                         | 2829/6060 [00:11<00:12, 260.29it/s]==============================\n",
      "*** Open Babel Warning  in PerceiveBondOrders\n",
      "  Failed to kekulize aromatic bonds in OBMol::PerceiveBondOrders\n",
      "\n",
      "[17:38:05] Explicit valence for atom # 1 N, 4, is greater than permitted\n",
      "[17:38:05] Explicit valence for atom # 1 N, 4, is greater than permitted\n",
      " 47%|████████████████████████████████████▊                                         | 2856/6060 [00:11<00:12, 258.90it/s]"
     ]
    },
    {
     "name": "stdout",
     "output_type": "stream",
     "text": [
      "MCOPJQNXAFJCHU-UHFFFAOYSA-N is none \n",
      "couldn't add Hydrogens, implicit hydrogens might be missing\n"
     ]
    },
    {
     "name": "stderr",
     "output_type": "stream",
     "text": [
      " 51%|███████████████████████████████████████▍                                      | 3061/6060 [00:12<00:12, 247.15it/s]==============================\n",
      "*** Open Babel Warning  in PerceiveBondOrders\n",
      "  Failed to kekulize aromatic bonds in OBMol::PerceiveBondOrders\n",
      "\n",
      " 51%|████████████████████████████████████████                                      | 3115/6060 [00:12<00:11, 257.98it/s]"
     ]
    },
    {
     "name": "stdout",
     "output_type": "stream",
     "text": [
      "NHKKSWQCIBBXRI-UHFFFAOYSA-N is none \n",
      "NINIDFKCEFEMDL-UHFFFAOYSA-N is none \n"
     ]
    },
    {
     "name": "stderr",
     "output_type": "stream",
     "text": [
      " 54%|██████████████████████████████████████████▍                                   | 3298/6060 [00:12<00:10, 258.14it/s]==============================\n",
      "*** Open Babel Warning  in PerceiveBondOrders\n",
      "  Failed to kekulize aromatic bonds in OBMol::PerceiveBondOrders\n",
      "\n",
      " 56%|███████████████████████████████████████████▊                                  | 3406/6060 [00:13<00:10, 261.64it/s]"
     ]
    },
    {
     "name": "stdout",
     "output_type": "stream",
     "text": [
      "OKTJSMMVPCPJKN-UHFFFAOYSA-N is none \n"
     ]
    },
    {
     "name": "stderr",
     "output_type": "stream",
     "text": [
      " 59%|█████████████████████████████████████████████▊                                | 3564/6060 [00:14<00:10, 243.02it/s]==============================\n",
      "*** Open Babel Warning  in PerceiveBondOrders\n",
      "  Failed to kekulize aromatic bonds in OBMol::PerceiveBondOrders\n",
      "\n",
      " 60%|██████████████████████████████████████████████▌                               | 3616/6060 [00:14<00:09, 249.68it/s]==============================\n",
      "*** Open Babel Warning  in PerceiveBondOrders\n",
      "  Failed to kekulize aromatic bonds in OBMol::PerceiveBondOrders\n",
      "\n",
      " 61%|███████████████████████████████████████████████▉                              | 3721/6060 [00:14<00:09, 253.46it/s]"
     ]
    },
    {
     "name": "stdout",
     "output_type": "stream",
     "text": [
      "PSUDWVOCELYWEJ-UHFFFAOYSA-N is none \n"
     ]
    },
    {
     "name": "stderr",
     "output_type": "stream",
     "text": [
      " 62%|████████████████████████████████████████████████▏                             | 3747/6060 [00:14<00:09, 253.35it/s][17:38:09] Explicit valence for atom # 0 N, 4, is greater than permitted\n",
      "[17:38:09] Explicit valence for atom # 0 N, 4, is greater than permitted\n",
      " 63%|████████████████████████████████████████████████▉                             | 3802/6060 [00:14<00:08, 261.84it/s]"
     ]
    },
    {
     "name": "stdout",
     "output_type": "stream",
     "text": [
      "couldn't add Hydrogens, implicit hydrogens might be missing\n",
      "QJGQUHMNIGDVPM-UHFFFAOYSA-N is none \n",
      "QKEJCZRHWHPTSH-UHFFFAOYSA-N is none \n"
     ]
    },
    {
     "name": "stderr",
     "output_type": "stream",
     "text": [
      " 64%|█████████████████████████████████████████████████▉                            | 3884/6060 [00:15<00:08, 264.31it/s]"
     ]
    },
    {
     "name": "stdout",
     "output_type": "stream",
     "text": [
      "QMTGDJHXYKQMFE-UHFFFAOYSA-N is none \n"
     ]
    },
    {
     "name": "stderr",
     "output_type": "stream",
     "text": [
      " 65%|███████████████████████████████████████████████████                           | 3966/6060 [00:15<00:07, 263.80it/s]"
     ]
    },
    {
     "name": "stdout",
     "output_type": "stream",
     "text": [
      "QVGXLLKOCUKJST-UHFFFAOYSA-N is none \n"
     ]
    },
    {
     "name": "stderr",
     "output_type": "stream",
     "text": [
      " 67%|████████████████████████████████████████████████████                          | 4047/6060 [00:15<00:07, 257.80it/s]"
     ]
    },
    {
     "name": "stdout",
     "output_type": "stream",
     "text": [
      "results is none \n",
      "RGCNEDLMLAQWMV-UHFFFAOYSA-N is none \n"
     ]
    },
    {
     "name": "stderr",
     "output_type": "stream",
     "text": [
      " 68%|████████████████████████████████████████████████████▊                         | 4099/6060 [00:16<00:07, 245.47it/s]"
     ]
    },
    {
     "name": "stdout",
     "output_type": "stream",
     "text": [
      "RKYCOGPXXQUQMH-UHFFFAOYSA-N is none \n"
     ]
    },
    {
     "name": "stderr",
     "output_type": "stream",
     "text": [
      " 73%|█████████████████████████████████████████████████████████                     | 4435/6060 [00:17<00:06, 256.28it/s]==============================\n",
      "*** Open Babel Warning  in PerceiveBondOrders\n",
      "  Failed to kekulize aromatic bonds in OBMol::PerceiveBondOrders\n",
      "\n",
      " 74%|█████████████████████████████████████████████████████████▍                    | 4461/6060 [00:17<00:06, 254.45it/s]"
     ]
    },
    {
     "name": "stdout",
     "output_type": "stream",
     "text": [
      "SWQJXJOGLNCZEY-UHFFFAOYSA-N is none \n",
      "SYOVUQYBFHUDCP-UHFFFAOYSA-N is none \n"
     ]
    },
    {
     "name": "stderr",
     "output_type": "stream",
     "text": [
      " 75%|██████████████████████████████████████████████████████████▍                   | 4542/6060 [00:17<00:05, 261.47it/s]"
     ]
    },
    {
     "name": "stdout",
     "output_type": "stream",
     "text": [
      "TWPDUNYUPXVPTM-UHFFFAOYSA-N is none \n"
     ]
    },
    {
     "name": "stderr",
     "output_type": "stream",
     "text": [
      " 77%|████████████████████████████████████████████████████████████▏                 | 4674/6060 [00:18<00:05, 255.95it/s]==============================\n",
      "*** Open Babel Warning  in PerceiveBondOrders\n",
      "  Failed to kekulize aromatic bonds in OBMol::PerceiveBondOrders\n",
      "\n",
      " 81%|███████████████████████████████████████████████████████████████▏              | 4909/6060 [00:19<00:04, 254.06it/s]==============================\n",
      "*** Open Babel Warning  in PerceiveBondOrders\n",
      "  Failed to kekulize aromatic bonds in OBMol::PerceiveBondOrders\n",
      "\n",
      " 82%|████████████████████████████████████████████████████████████████▏             | 4987/6060 [00:19<00:04, 255.43it/s]"
     ]
    },
    {
     "name": "stdout",
     "output_type": "stream",
     "text": [
      "VOKAIBSFVGDOKS-UHFFFAOYSA-N is none \n"
     ]
    },
    {
     "name": "stderr",
     "output_type": "stream",
     "text": [
      " 84%|█████████████████████████████████████████████████████████████████▏            | 5064/6060 [00:20<00:04, 227.19it/s]==============================\n",
      "*** Open Babel Warning  in PerceiveBondOrders\n",
      "  Failed to kekulize aromatic bonds in OBMol::PerceiveBondOrders\n",
      "\n",
      " 84%|█████████████████████████████████████████████████████████████████▊            | 5115/6060 [00:20<00:03, 238.81it/s]==============================\n",
      "*** Open Babel Warning  in PerceiveBondOrders\n",
      "  Failed to kekulize aromatic bonds in OBMol::PerceiveBondOrders\n",
      "\n",
      " 85%|██████████████████████████████████████████████████████████████████▏           | 5141/6060 [00:20<00:03, 244.44it/s]==============================\n",
      "*** Open Babel Warning  in PerceiveBondOrders\n",
      "  Failed to kekulize aromatic bonds in OBMol::PerceiveBondOrders\n",
      "\n",
      " 87%|███████████████████████████████████████████████████████████████████▌          | 5247/6060 [00:20<00:03, 257.03it/s]"
     ]
    },
    {
     "name": "stdout",
     "output_type": "stream",
     "text": [
      "WOZZBQKVSNYYSM-UHFFFAOYSA-N is none \n"
     ]
    },
    {
     "name": "stderr",
     "output_type": "stream",
     "text": [
      " 87%|████████████████████████████████████████████████████████████████████▏         | 5299/6060 [00:20<00:03, 253.18it/s]==============================\n",
      "*** Open Babel Warning  in PerceiveBondOrders\n",
      "  Failed to kekulize aromatic bonds in OBMol::PerceiveBondOrders\n",
      "\n",
      " 88%|████████████████████████████████████████████████████████████████████▌         | 5325/6060 [00:21<00:02, 252.19it/s]==============================\n",
      "*** Open Babel Warning  in PerceiveBondOrders\n",
      "  Failed to kekulize aromatic bonds in OBMol::PerceiveBondOrders\n",
      "\n",
      " 89%|█████████████████████████████████████████████████████████████████████▌        | 5405/6060 [00:21<00:02, 257.18it/s][17:38:15] Explicit valence for atom # 1 N, 4, is greater than permitted\n",
      "[17:38:15] Explicit valence for atom # 1 N, 4, is greater than permitted\n",
      " 90%|█████████████████████████████████████████████████████████████████████▉        | 5431/6060 [00:21<00:02, 258.00it/s]"
     ]
    },
    {
     "name": "stdout",
     "output_type": "stream",
     "text": [
      "XKRFYHLGVUSROY-UHFFFAOYSA-N is none \n",
      "couldn't add Hydrogens, implicit hydrogens might be missing\n",
      "XPGFERQQLIGTRR-UHFFFAOYSA-N is none \n"
     ]
    },
    {
     "name": "stderr",
     "output_type": "stream",
     "text": [
      " 90%|██████████████████████████████████████████████████████████████████████▌       | 5484/6060 [00:21<00:02, 258.72it/s]"
     ]
    },
    {
     "name": "stdout",
     "output_type": "stream",
     "text": [
      "XQKHFRBXPZGCOX-UHFFFAOYSA-N is none \n"
     ]
    },
    {
     "name": "stderr",
     "output_type": "stream",
     "text": [
      " 91%|██████████████████████████████████████████████████████████████████████▉       | 5510/6060 [00:21<00:02, 256.31it/s]==============================\n",
      "*** Open Babel Warning  in PerceiveBondOrders\n",
      "  Failed to kekulize aromatic bonds in OBMol::PerceiveBondOrders\n",
      "\n",
      " 92%|███████████████████████████████████████████████████████████████████████▉      | 5588/6060 [00:22<00:01, 256.91it/s]"
     ]
    },
    {
     "name": "stdout",
     "output_type": "stream",
     "text": [
      "YBSDNOGHLUKFQJ-UHFFFAOYSA-N is none \n",
      "YEXWOGKLXXTUCJ-UHFFFAOYSA-N is none \n"
     ]
    },
    {
     "name": "stderr",
     "output_type": "stream",
     "text": [
      " 93%|████████████████████████████████████████████████████████████████████████▎     | 5614/6060 [00:22<00:01, 254.35it/s]==============================\n",
      "*** Open Babel Warning  in PerceiveBondOrders\n",
      "  Failed to kekulize aromatic bonds in OBMol::PerceiveBondOrders\n",
      "\n",
      " 94%|█████████████████████████████████████████████████████████████████████████▎    | 5693/6060 [00:22<00:01, 254.88it/s]"
     ]
    },
    {
     "name": "stdout",
     "output_type": "stream",
     "text": [
      "YNJHMFXRHDPWCD-UHFFFAOYSA-N is none \n"
     ]
    },
    {
     "name": "stderr",
     "output_type": "stream",
     "text": [
      " 96%|██████████████████████████████████████████████████████████████████████████▉   | 5826/6060 [00:23<00:00, 255.51it/s]"
     ]
    },
    {
     "name": "stdout",
     "output_type": "stream",
     "text": [
      "YZCKVEUIGOORGS-UHFFFAOYSA-N is none \n",
      "ZAMOUSCENKQFHK-UHFFFAOYSA-N is none \n",
      "ZDIIMEPYWRZOSI-UHFFFAOYSA-N is none \n"
     ]
    },
    {
     "name": "stderr",
     "output_type": "stream",
     "text": [
      " 97%|████████████████████████████████████████████████████████████████████████████  | 5905/6060 [00:23<00:00, 258.00it/s]"
     ]
    },
    {
     "name": "stdout",
     "output_type": "stream",
     "text": [
      "ZGOHZDSOGSCHIE-UHFFFAOYSA-N is none \n"
     ]
    },
    {
     "name": "stderr",
     "output_type": "stream",
     "text": [
      "100%|██████████████████████████████████████████████████████████████████████████████| 6060/6060 [00:23<00:00, 253.42it/s]\n"
     ]
    },
    {
     "name": "stdout",
     "output_type": "stream",
     "text": [
      "full info molecules 6014\n"
     ]
    },
    {
     "name": "stderr",
     "output_type": "stream",
     "text": [
      "28952it [01:43, 280.28it/s]\n"
     ]
    },
    {
     "name": "stdout",
     "output_type": "stream",
     "text": [
      "{'gibbs': 0, 'entropy': 1, 'topo': 7, 'morgan': 107, 'hom-lum': 108, 'homo': 109, 'lumo': 110, 'min_lumo_reactants': 111, 'max_lumo_reactants': 112, 'max_h-l_reactants': 113, 'min_homo_reactants': 114, 'max_homo_reactants': 115, 'min_lumo_products': 116, 'max_lumo_products': 117, 'max_h-l_products': 118, 'min_homo_products': 119, 'max_homo_products': 120}\n"
     ]
    },
    {
     "data": {
      "text/plain": [
       "[array([[-4.86499346e+02,  4.94403605e+01, -2.92528740e-01, ...,\n",
       "          8.27305000e+00, -6.99058000e+00, -6.99058000e+00],\n",
       "        [-4.55574540e+02,  4.44152860e+01, -9.61331711e-01, ...,\n",
       "          5.08333000e+00, -5.96429000e+00, -5.96429000e+00],\n",
       "        [-4.51263156e+02,  4.77067035e+01, -1.16350396e+00, ...,\n",
       "          5.07604000e+00, -5.57917000e+00, -5.57917000e+00],\n",
       "        ...,\n",
       "        [-9.26849995e+01,  1.40414899e+00,  3.77925361e-01, ...,\n",
       "          1.61130000e+00, -3.98093000e+00, -3.98093000e+00],\n",
       "        [-2.37001211e+01,  1.80066977e+00, -7.53336385e-01, ...,\n",
       "          1.19714000e+00, -3.78326000e+00, -3.78326000e+00],\n",
       "        [-2.74155212e+02,  5.55656932e+01,  3.37644960e-01, ...,\n",
       "          3.69964000e+00, -5.15203000e+00, -5.15203000e+00]]),\n",
       " array([22133.4  ,   157.737,  -111.713, ..., 71175.566, 71175.566,\n",
       "        -2093.399]),\n",
       " array([    0,     6,     7, ..., 28948, 28949, 28951])]"
      ]
     },
     "execution_count": 3,
     "metadata": {},
     "output_type": "execute_result"
    }
   ],
   "source": [
    "my_featurizer = Featurizer()\n",
    "molecdict = my_featurizer.update_molecular_dict(out=True)\n",
    "my_featurizer.trainingsetgenerator(features = [\n",
    "    \"gibbs\",\n",
    "    \"entropy\",\n",
    "    \"topo\",\n",
    "    \"morgan\",\n",
    "    \"hom-lum\",\n",
    "    \"homo\",\n",
    "    \"lumo\",\n",
    "    'min_lumo_reactants',\n",
    "    'max_lumo_reactants',\n",
    "    'max_h-l_reactants',\n",
    "    'min_homo_reactants',\n",
    "    'max_homo_reactants',\n",
    "    'min_lumo_products',\n",
    "    'max_lumo_products',\n",
    "    'max_h-l_products',\n",
    "    'min_homo_products',\n",
    "    'max_homo_products',\n",
    "],out=True)"
   ]
  },
  {
   "cell_type": "markdown",
   "id": "158300e3",
   "metadata": {},
   "source": [
    "Once the cell above is done running the \"training_set\" directory will have a '.trainingvalues' and a '.trainingfeatures' file that can be used read with the np.load function to read in an x array of descriptors and a y array of activatione energy values. Additionally a 'reaction_indices_out.json' file is present which gives the index of the reaction back in the reactions.json file \n",
    "\n",
    "i.e. \n",
    "\n",
    "    the first element reaction_indices_out.json says '6', meaning that the first element of xxx.trainvalues and xxx.trainfeatures refers to reaction no. 6 in reactions.json.\n",
    "\n",
    "Lastly the features_explained.json gives an index value for all the indices in the descriptor of the reaction explaining what property it corresponds to."
   ]
  },
  {
   "cell_type": "markdown",
   "id": "417009e5",
   "metadata": {},
   "source": [
    "# How to add new molecules and reactions\n",
    "\n",
    "To add new data to the training set you need the following: \n",
    "\n",
    "    - Activation energy and stoichiometry  for reactions to be added.\n",
    "\n",
    "    - Geometry Optimized/Relaxed Molecular structure \n",
    "    \n",
    "    - Data from geometry relaxation/ Thermodynamic calculation as mentioned above (Gibbs energies @ 0 and 300 K, HOMO and LUMO)\n",
    "    \n",
    "    NB: Current thermodynamic  data is calculated  using PBE with def2-SVP basis sets in TURBOMOLE. To add new species to this specific dataset the same XC-Functional and basis set must be used (ideally with the same DFT package).\n",
    "    link to Turbomole manual : https://www.turbomole.org/wp-content/uploads/2019/10/Turbomole_Manual_7-4.pdf\n",
    "    Page (44/270 has instructions on how it can be used)\n",
    "    \n",
    "    In all other cases the thermodynamic data for all molecules must be recalculated and included. \n",
    "\n",
    "The addition of the geometry optimized molecule has to be done so in the format mentioned above : \n",
    "         \n",
    "         Example: dft-results/XXXXXXXXXXXXXX-UHFFFAOYSA-N/relaxed_XXXXXXXXXXXXXX-UHFFFAOYSA-N.xyz\n",
    "\n",
    "The DFT information has to be updated in the dft_data.json file as mentioned above. Note that this notebook will not calculate the DFT neccessary information, this must be done with an external package. In principle any DFT package can calculate the neccessary values. We recommend TURBOMOLE for the use of their  \"freeh\" property calculation package that provides the neccessary free energy values.\n",
    "\n",
    "The reaction then has to be included in the file reactions.data where the inchi keys of the products and reactions must be filled in as follows:\n",
    "\n",
    "\n",
    "\"ProdInChI\": [\n",
    "      \"XXXXXXXXXXXXXX-UHFFFAOYSA-N\"\n",
    "      \"XXXXXXXXXXXXXX-UHFFFAOYSA-N\"\n",
    "    ],\n",
    "    \"ReacInChI\": [\n",
    "      \"XXXXXXXXXXXXXX-UHFFFAOYSA-N\",\n",
    "      \"XXXXXXXXXXXXXX-UHFFFAOYSA-N\"\n",
    "    ]\n",
    "\n",
    "\n",
    "and the activation energy must be filled in as follows:\n",
    "    \n",
    "    'Ea [kJ/mol]': float(XXX.XXX)\n",
    "\n",
    "\n",
    "with supported units being :\n",
    "    \n",
    "    '[J/mol]':\n",
    "    \n",
    "    '[cal/mol]'\n",
    "    \n",
    "    '[kJ/mol]'\n",
    "    \n",
    "    '[kcal/mol]'\n"
   ]
  },
  {
   "cell_type": "code",
   "execution_count": null,
   "id": "b34c54f9",
   "metadata": {},
   "outputs": [],
   "source": []
  }
 ],
 "metadata": {
  "kernelspec": {
   "display_name": "Python 3 (ipykernel)",
   "language": "python",
   "name": "python3"
  },
  "language_info": {
   "codemirror_mode": {
    "name": "ipython",
    "version": 3
   },
   "file_extension": ".py",
   "mimetype": "text/x-python",
   "name": "python",
   "nbconvert_exporter": "python",
   "pygments_lexer": "ipython3",
   "version": "3.10.8"
  }
 },
 "nbformat": 4,
 "nbformat_minor": 5
}
